{
 "cells": [
  {
   "cell_type": "markdown",
   "metadata": {},
   "source": [
    "# Does Icing the Kicker Work?\n",
    "\n",
    "There is a prevailing belief by NFL fans and coaches that \"icing\" the kicker, or the opposing team taking a timeout to stretch out the dead time before the a field goal attempt, makes the kicker less likely to complete the field goal. Does the data support this belief?\n",
    "\n",
    "NFL regular season play-by-play data from 2009-2019 will be used in this analysis."
   ]
  },
  {
   "cell_type": "markdown",
   "metadata": {},
   "source": [
    "## Setup"
   ]
  },
  {
   "cell_type": "code",
   "execution_count": 1,
   "metadata": {},
   "outputs": [],
   "source": [
    "%matplotlib inline\n",
    "import pandas as pd\n",
    "import numpy as np\n",
    "import matplotlib.pyplot as plt\n",
    "import seaborn as sns\n",
    "from statsmodels.stats.proportion import proportions_ztest\n",
    "\n",
    "sns.set_style('whitegrid')"
   ]
  },
  {
   "cell_type": "code",
   "execution_count": 2,
   "metadata": {},
   "outputs": [
    {
     "name": "stderr",
     "output_type": "stream",
     "text": [
      "C:\\Users\\pschl\\anaconda3\\lib\\site-packages\\IPython\\core\\interactiveshell.py:3146: DtypeWarning: Columns (42,166,167,168,169,174,175,178,179,182,183,188,189,190,191,194,195,203,204,205,218,219,220,231,232,233,238,240,241,249) have mixed types.Specify dtype option on import or set low_memory=False.\n",
      "  interactivity=interactivity, compiler=compiler, result=result)\n"
     ]
    }
   ],
   "source": [
    "# load the data from 2009-2018\n",
    "nfl_path = r\"C:\\Users\\pschl\\OneDrive\\Documents\\data_science\\NFL\\NFL Play by Play 2009-2018 (v5).csv\"\n",
    "nfl_df = pd.read_csv(nfl_path)"
   ]
  },
  {
   "cell_type": "code",
   "execution_count": 3,
   "metadata": {},
   "outputs": [
    {
     "data": {
      "text/html": [
       "<div>\n",
       "<style scoped>\n",
       "    .dataframe tbody tr th:only-of-type {\n",
       "        vertical-align: middle;\n",
       "    }\n",
       "\n",
       "    .dataframe tbody tr th {\n",
       "        vertical-align: top;\n",
       "    }\n",
       "\n",
       "    .dataframe thead th {\n",
       "        text-align: right;\n",
       "    }\n",
       "</style>\n",
       "<table border=\"1\" class=\"dataframe\">\n",
       "  <thead>\n",
       "    <tr style=\"text-align: right;\">\n",
       "      <th></th>\n",
       "      <th>play_id</th>\n",
       "      <th>game_id</th>\n",
       "      <th>home_team</th>\n",
       "      <th>away_team</th>\n",
       "      <th>posteam</th>\n",
       "      <th>posteam_type</th>\n",
       "      <th>defteam</th>\n",
       "      <th>side_of_field</th>\n",
       "      <th>yardline_100</th>\n",
       "      <th>game_date</th>\n",
       "      <th>...</th>\n",
       "      <th>penalty_player_id</th>\n",
       "      <th>penalty_player_name</th>\n",
       "      <th>penalty_yards</th>\n",
       "      <th>replay_or_challenge</th>\n",
       "      <th>replay_or_challenge_result</th>\n",
       "      <th>penalty_type</th>\n",
       "      <th>defensive_two_point_attempt</th>\n",
       "      <th>defensive_two_point_conv</th>\n",
       "      <th>defensive_extra_point_attempt</th>\n",
       "      <th>defensive_extra_point_conv</th>\n",
       "    </tr>\n",
       "  </thead>\n",
       "  <tbody>\n",
       "    <tr>\n",
       "      <th>0</th>\n",
       "      <td>46</td>\n",
       "      <td>2009091000</td>\n",
       "      <td>PIT</td>\n",
       "      <td>TEN</td>\n",
       "      <td>PIT</td>\n",
       "      <td>home</td>\n",
       "      <td>TEN</td>\n",
       "      <td>TEN</td>\n",
       "      <td>30.0</td>\n",
       "      <td>2009-09-10</td>\n",
       "      <td>...</td>\n",
       "      <td>NaN</td>\n",
       "      <td>NaN</td>\n",
       "      <td>NaN</td>\n",
       "      <td>0</td>\n",
       "      <td>NaN</td>\n",
       "      <td>NaN</td>\n",
       "      <td>0.0</td>\n",
       "      <td>0.0</td>\n",
       "      <td>0.0</td>\n",
       "      <td>0.0</td>\n",
       "    </tr>\n",
       "    <tr>\n",
       "      <th>1</th>\n",
       "      <td>68</td>\n",
       "      <td>2009091000</td>\n",
       "      <td>PIT</td>\n",
       "      <td>TEN</td>\n",
       "      <td>PIT</td>\n",
       "      <td>home</td>\n",
       "      <td>TEN</td>\n",
       "      <td>PIT</td>\n",
       "      <td>58.0</td>\n",
       "      <td>2009-09-10</td>\n",
       "      <td>...</td>\n",
       "      <td>NaN</td>\n",
       "      <td>NaN</td>\n",
       "      <td>NaN</td>\n",
       "      <td>0</td>\n",
       "      <td>NaN</td>\n",
       "      <td>NaN</td>\n",
       "      <td>0.0</td>\n",
       "      <td>0.0</td>\n",
       "      <td>0.0</td>\n",
       "      <td>0.0</td>\n",
       "    </tr>\n",
       "    <tr>\n",
       "      <th>2</th>\n",
       "      <td>92</td>\n",
       "      <td>2009091000</td>\n",
       "      <td>PIT</td>\n",
       "      <td>TEN</td>\n",
       "      <td>PIT</td>\n",
       "      <td>home</td>\n",
       "      <td>TEN</td>\n",
       "      <td>PIT</td>\n",
       "      <td>53.0</td>\n",
       "      <td>2009-09-10</td>\n",
       "      <td>...</td>\n",
       "      <td>NaN</td>\n",
       "      <td>NaN</td>\n",
       "      <td>NaN</td>\n",
       "      <td>0</td>\n",
       "      <td>NaN</td>\n",
       "      <td>NaN</td>\n",
       "      <td>0.0</td>\n",
       "      <td>0.0</td>\n",
       "      <td>0.0</td>\n",
       "      <td>0.0</td>\n",
       "    </tr>\n",
       "    <tr>\n",
       "      <th>3</th>\n",
       "      <td>113</td>\n",
       "      <td>2009091000</td>\n",
       "      <td>PIT</td>\n",
       "      <td>TEN</td>\n",
       "      <td>PIT</td>\n",
       "      <td>home</td>\n",
       "      <td>TEN</td>\n",
       "      <td>PIT</td>\n",
       "      <td>56.0</td>\n",
       "      <td>2009-09-10</td>\n",
       "      <td>...</td>\n",
       "      <td>NaN</td>\n",
       "      <td>NaN</td>\n",
       "      <td>NaN</td>\n",
       "      <td>0</td>\n",
       "      <td>NaN</td>\n",
       "      <td>NaN</td>\n",
       "      <td>0.0</td>\n",
       "      <td>0.0</td>\n",
       "      <td>0.0</td>\n",
       "      <td>0.0</td>\n",
       "    </tr>\n",
       "    <tr>\n",
       "      <th>4</th>\n",
       "      <td>139</td>\n",
       "      <td>2009091000</td>\n",
       "      <td>PIT</td>\n",
       "      <td>TEN</td>\n",
       "      <td>PIT</td>\n",
       "      <td>home</td>\n",
       "      <td>TEN</td>\n",
       "      <td>PIT</td>\n",
       "      <td>56.0</td>\n",
       "      <td>2009-09-10</td>\n",
       "      <td>...</td>\n",
       "      <td>NaN</td>\n",
       "      <td>NaN</td>\n",
       "      <td>NaN</td>\n",
       "      <td>0</td>\n",
       "      <td>NaN</td>\n",
       "      <td>NaN</td>\n",
       "      <td>0.0</td>\n",
       "      <td>0.0</td>\n",
       "      <td>0.0</td>\n",
       "      <td>0.0</td>\n",
       "    </tr>\n",
       "  </tbody>\n",
       "</table>\n",
       "<p>5 rows × 255 columns</p>\n",
       "</div>"
      ],
      "text/plain": [
       "   play_id     game_id home_team away_team posteam posteam_type defteam  \\\n",
       "0       46  2009091000       PIT       TEN     PIT         home     TEN   \n",
       "1       68  2009091000       PIT       TEN     PIT         home     TEN   \n",
       "2       92  2009091000       PIT       TEN     PIT         home     TEN   \n",
       "3      113  2009091000       PIT       TEN     PIT         home     TEN   \n",
       "4      139  2009091000       PIT       TEN     PIT         home     TEN   \n",
       "\n",
       "  side_of_field  yardline_100   game_date  ...  penalty_player_id  \\\n",
       "0           TEN          30.0  2009-09-10  ...                NaN   \n",
       "1           PIT          58.0  2009-09-10  ...                NaN   \n",
       "2           PIT          53.0  2009-09-10  ...                NaN   \n",
       "3           PIT          56.0  2009-09-10  ...                NaN   \n",
       "4           PIT          56.0  2009-09-10  ...                NaN   \n",
       "\n",
       "   penalty_player_name  penalty_yards replay_or_challenge  \\\n",
       "0                  NaN            NaN                   0   \n",
       "1                  NaN            NaN                   0   \n",
       "2                  NaN            NaN                   0   \n",
       "3                  NaN            NaN                   0   \n",
       "4                  NaN            NaN                   0   \n",
       "\n",
       "   replay_or_challenge_result  penalty_type  defensive_two_point_attempt  \\\n",
       "0                         NaN           NaN                          0.0   \n",
       "1                         NaN           NaN                          0.0   \n",
       "2                         NaN           NaN                          0.0   \n",
       "3                         NaN           NaN                          0.0   \n",
       "4                         NaN           NaN                          0.0   \n",
       "\n",
       "   defensive_two_point_conv  defensive_extra_point_attempt  \\\n",
       "0                       0.0                            0.0   \n",
       "1                       0.0                            0.0   \n",
       "2                       0.0                            0.0   \n",
       "3                       0.0                            0.0   \n",
       "4                       0.0                            0.0   \n",
       "\n",
       "   defensive_extra_point_conv  \n",
       "0                         0.0  \n",
       "1                         0.0  \n",
       "2                         0.0  \n",
       "3                         0.0  \n",
       "4                         0.0  \n",
       "\n",
       "[5 rows x 255 columns]"
      ]
     },
     "execution_count": 3,
     "metadata": {},
     "output_type": "execute_result"
    }
   ],
   "source": [
    "nfl_df.head()"
   ]
  },
  {
   "cell_type": "code",
   "execution_count": 4,
   "metadata": {},
   "outputs": [
    {
     "name": "stdout",
     "output_type": "stream",
     "text": [
      "<class 'pandas.core.frame.DataFrame'>\n",
      "RangeIndex: 449371 entries, 0 to 449370\n",
      "Data columns (total 255 columns):\n",
      " #   Column                                Dtype  \n",
      "---  ------                                -----  \n",
      " 0   play_id                               int64  \n",
      " 1   game_id                               int64  \n",
      " 2   home_team                             object \n",
      " 3   away_team                             object \n",
      " 4   posteam                               object \n",
      " 5   posteam_type                          object \n",
      " 6   defteam                               object \n",
      " 7   side_of_field                         object \n",
      " 8   yardline_100                          float64\n",
      " 9   game_date                             object \n",
      " 10  quarter_seconds_remaining             float64\n",
      " 11  half_seconds_remaining                float64\n",
      " 12  game_seconds_remaining                float64\n",
      " 13  game_half                             object \n",
      " 14  quarter_end                           int64  \n",
      " 15  drive                                 int64  \n",
      " 16  sp                                    int64  \n",
      " 17  qtr                                   int64  \n",
      " 18  down                                  float64\n",
      " 19  goal_to_go                            float64\n",
      " 20  time                                  object \n",
      " 21  yrdln                                 object \n",
      " 22  ydstogo                               int64  \n",
      " 23  ydsnet                                int64  \n",
      " 24  desc                                  object \n",
      " 25  play_type                             object \n",
      " 26  yards_gained                          float64\n",
      " 27  shotgun                               int64  \n",
      " 28  no_huddle                             int64  \n",
      " 29  qb_dropback                           float64\n",
      " 30  qb_kneel                              int64  \n",
      " 31  qb_spike                              int64  \n",
      " 32  qb_scramble                           int64  \n",
      " 33  pass_length                           object \n",
      " 34  pass_location                         object \n",
      " 35  air_yards                             float64\n",
      " 36  yards_after_catch                     float64\n",
      " 37  run_location                          object \n",
      " 38  run_gap                               object \n",
      " 39  field_goal_result                     object \n",
      " 40  kick_distance                         float64\n",
      " 41  extra_point_result                    object \n",
      " 42  two_point_conv_result                 object \n",
      " 43  home_timeouts_remaining               int64  \n",
      " 44  away_timeouts_remaining               int64  \n",
      " 45  timeout                               float64\n",
      " 46  timeout_team                          object \n",
      " 47  td_team                               object \n",
      " 48  posteam_timeouts_remaining            float64\n",
      " 49  defteam_timeouts_remaining            float64\n",
      " 50  total_home_score                      int64  \n",
      " 51  total_away_score                      int64  \n",
      " 52  posteam_score                         float64\n",
      " 53  defteam_score                         float64\n",
      " 54  score_differential                    float64\n",
      " 55  posteam_score_post                    float64\n",
      " 56  defteam_score_post                    float64\n",
      " 57  score_differential_post               float64\n",
      " 58  no_score_prob                         float64\n",
      " 59  opp_fg_prob                           float64\n",
      " 60  opp_safety_prob                       float64\n",
      " 61  opp_td_prob                           float64\n",
      " 62  fg_prob                               float64\n",
      " 63  safety_prob                           float64\n",
      " 64  td_prob                               float64\n",
      " 65  extra_point_prob                      float64\n",
      " 66  two_point_conversion_prob             float64\n",
      " 67  ep                                    float64\n",
      " 68  epa                                   float64\n",
      " 69  total_home_epa                        float64\n",
      " 70  total_away_epa                        float64\n",
      " 71  total_home_rush_epa                   float64\n",
      " 72  total_away_rush_epa                   float64\n",
      " 73  total_home_pass_epa                   float64\n",
      " 74  total_away_pass_epa                   float64\n",
      " 75  air_epa                               float64\n",
      " 76  yac_epa                               float64\n",
      " 77  comp_air_epa                          float64\n",
      " 78  comp_yac_epa                          float64\n",
      " 79  total_home_comp_air_epa               float64\n",
      " 80  total_away_comp_air_epa               float64\n",
      " 81  total_home_comp_yac_epa               float64\n",
      " 82  total_away_comp_yac_epa               float64\n",
      " 83  total_home_raw_air_epa                float64\n",
      " 84  total_away_raw_air_epa                float64\n",
      " 85  total_home_raw_yac_epa                float64\n",
      " 86  total_away_raw_yac_epa                float64\n",
      " 87  wp                                    float64\n",
      " 88  def_wp                                float64\n",
      " 89  home_wp                               float64\n",
      " 90  away_wp                               float64\n",
      " 91  wpa                                   float64\n",
      " 92  home_wp_post                          float64\n",
      " 93  away_wp_post                          float64\n",
      " 94  total_home_rush_wpa                   float64\n",
      " 95  total_away_rush_wpa                   float64\n",
      " 96  total_home_pass_wpa                   float64\n",
      " 97  total_away_pass_wpa                   float64\n",
      " 98  air_wpa                               float64\n",
      " 99  yac_wpa                               float64\n",
      " 100 comp_air_wpa                          float64\n",
      " 101 comp_yac_wpa                          float64\n",
      " 102 total_home_comp_air_wpa               float64\n",
      " 103 total_away_comp_air_wpa               float64\n",
      " 104 total_home_comp_yac_wpa               float64\n",
      " 105 total_away_comp_yac_wpa               float64\n",
      " 106 total_home_raw_air_wpa                float64\n",
      " 107 total_away_raw_air_wpa                float64\n",
      " 108 total_home_raw_yac_wpa                float64\n",
      " 109 total_away_raw_yac_wpa                float64\n",
      " 110 punt_blocked                          float64\n",
      " 111 first_down_rush                       float64\n",
      " 112 first_down_pass                       float64\n",
      " 113 first_down_penalty                    float64\n",
      " 114 third_down_converted                  float64\n",
      " 115 third_down_failed                     float64\n",
      " 116 fourth_down_converted                 float64\n",
      " 117 fourth_down_failed                    float64\n",
      " 118 incomplete_pass                       float64\n",
      " 119 interception                          float64\n",
      " 120 punt_inside_twenty                    float64\n",
      " 121 punt_in_endzone                       float64\n",
      " 122 punt_out_of_bounds                    float64\n",
      " 123 punt_downed                           float64\n",
      " 124 punt_fair_catch                       float64\n",
      " 125 kickoff_inside_twenty                 float64\n",
      " 126 kickoff_in_endzone                    float64\n",
      " 127 kickoff_out_of_bounds                 float64\n",
      " 128 kickoff_downed                        float64\n",
      " 129 kickoff_fair_catch                    float64\n",
      " 130 fumble_forced                         float64\n",
      " 131 fumble_not_forced                     float64\n",
      " 132 fumble_out_of_bounds                  float64\n",
      " 133 solo_tackle                           float64\n",
      " 134 safety                                float64\n",
      " 135 penalty                               float64\n",
      " 136 tackled_for_loss                      float64\n",
      " 137 fumble_lost                           float64\n",
      " 138 own_kickoff_recovery                  float64\n",
      " 139 own_kickoff_recovery_td               float64\n",
      " 140 qb_hit                                float64\n",
      " 141 rush_attempt                          float64\n",
      " 142 pass_attempt                          float64\n",
      " 143 sack                                  float64\n",
      " 144 touchdown                             float64\n",
      " 145 pass_touchdown                        float64\n",
      " 146 rush_touchdown                        float64\n",
      " 147 return_touchdown                      float64\n",
      " 148 extra_point_attempt                   float64\n",
      " 149 two_point_attempt                     float64\n",
      " 150 field_goal_attempt                    float64\n",
      " 151 kickoff_attempt                       float64\n",
      " 152 punt_attempt                          float64\n",
      " 153 fumble                                float64\n",
      " 154 complete_pass                         float64\n",
      " 155 assist_tackle                         float64\n",
      " 156 lateral_reception                     float64\n",
      " 157 lateral_rush                          float64\n",
      " 158 lateral_return                        float64\n",
      " 159 lateral_recovery                      float64\n",
      " 160 passer_player_id                      object \n",
      " 161 passer_player_name                    object \n",
      " 162 receiver_player_id                    object \n",
      " 163 receiver_player_name                  object \n",
      " 164 rusher_player_id                      object \n",
      " 165 rusher_player_name                    object \n",
      " 166 lateral_receiver_player_id            object \n",
      " 167 lateral_receiver_player_name          object \n",
      " 168 lateral_rusher_player_id              object \n",
      " 169 lateral_rusher_player_name            object \n",
      " 170 lateral_sack_player_id                float64\n",
      " 171 lateral_sack_player_name              float64\n",
      " 172 interception_player_id                object \n",
      " 173 interception_player_name              object \n",
      " 174 lateral_interception_player_id        object \n",
      " 175 lateral_interception_player_name      object \n",
      " 176 punt_returner_player_id               object \n",
      " 177 punt_returner_player_name             object \n",
      " 178 lateral_punt_returner_player_id       object \n",
      " 179 lateral_punt_returner_player_name     object \n",
      " 180 kickoff_returner_player_name          object \n",
      " 181 kickoff_returner_player_id            object \n",
      " 182 lateral_kickoff_returner_player_id    object \n",
      " 183 lateral_kickoff_returner_player_name  object \n",
      " 184 punter_player_id                      object \n",
      " 185 punter_player_name                    object \n",
      " 186 kicker_player_name                    object \n",
      " 187 kicker_player_id                      object \n",
      " 188 own_kickoff_recovery_player_id        object \n",
      " 189 own_kickoff_recovery_player_name      object \n",
      " 190 blocked_player_id                     object \n",
      " 191 blocked_player_name                   object \n",
      " 192 tackle_for_loss_1_player_id           object \n",
      " 193 tackle_for_loss_1_player_name         object \n",
      " 194 tackle_for_loss_2_player_id           object \n",
      " 195 tackle_for_loss_2_player_name         object \n",
      " 196 qb_hit_1_player_id                    object \n",
      " 197 qb_hit_1_player_name                  object \n",
      " 198 qb_hit_2_player_id                    object \n",
      " 199 qb_hit_2_player_name                  object \n",
      " 200 forced_fumble_player_1_team           object \n",
      " 201 forced_fumble_player_1_player_id      object \n",
      " 202 forced_fumble_player_1_player_name    object \n",
      " 203 forced_fumble_player_2_team           object \n",
      " 204 forced_fumble_player_2_player_id      object \n",
      " 205 forced_fumble_player_2_player_name    object \n",
      " 206 solo_tackle_1_team                    object \n",
      " 207 solo_tackle_2_team                    object \n",
      " 208 solo_tackle_1_player_id               object \n",
      " 209 solo_tackle_2_player_id               object \n",
      " 210 solo_tackle_1_player_name             object \n",
      " 211 solo_tackle_2_player_name             object \n",
      " 212 assist_tackle_1_player_id             object \n",
      " 213 assist_tackle_1_player_name           object \n",
      " 214 assist_tackle_1_team                  object \n",
      " 215 assist_tackle_2_player_id             object \n",
      " 216 assist_tackle_2_player_name           object \n",
      " 217 assist_tackle_2_team                  object \n",
      " 218 assist_tackle_3_player_id             object \n",
      " 219 assist_tackle_3_player_name           object \n",
      " 220 assist_tackle_3_team                  object \n",
      " 221 assist_tackle_4_player_id             float64\n",
      " 222 assist_tackle_4_player_name           float64\n",
      " 223 assist_tackle_4_team                  float64\n",
      " 224 pass_defense_1_player_id              object \n",
      " 225 pass_defense_1_player_name            object \n",
      " 226 pass_defense_2_player_id              object \n",
      " 227 pass_defense_2_player_name            object \n",
      " 228 fumbled_1_team                        object \n",
      " 229 fumbled_1_player_id                   object \n",
      " 230 fumbled_1_player_name                 object \n",
      " 231 fumbled_2_player_id                   object \n",
      " 232 fumbled_2_player_name                 object \n",
      " 233 fumbled_2_team                        object \n",
      " 234 fumble_recovery_1_team                object \n",
      " 235 fumble_recovery_1_yards               float64\n",
      " 236 fumble_recovery_1_player_id           object \n",
      " 237 fumble_recovery_1_player_name         object \n",
      " 238 fumble_recovery_2_team                object \n",
      " 239 fumble_recovery_2_yards               float64\n",
      " 240 fumble_recovery_2_player_id           object \n",
      " 241 fumble_recovery_2_player_name         object \n",
      " 242 return_team                           object \n",
      " 243 return_yards                          float64\n",
      " 244 penalty_team                          object \n",
      " 245 penalty_player_id                     object \n",
      " 246 penalty_player_name                   object \n",
      " 247 penalty_yards                         float64\n",
      " 248 replay_or_challenge                   int64  \n",
      " 249 replay_or_challenge_result            object \n",
      " 250 penalty_type                          object \n",
      " 251 defensive_two_point_attempt           float64\n",
      " 252 defensive_two_point_conv              float64\n",
      " 253 defensive_extra_point_attempt         float64\n",
      " 254 defensive_extra_point_conv            float64\n",
      "dtypes: float64(135), int64(18), object(102)\n",
      "memory usage: 874.2+ MB\n"
     ]
    }
   ],
   "source": [
    "nfl_df.info(verbose=True)"
   ]
  },
  {
   "cell_type": "markdown",
   "metadata": {},
   "source": [
    "Concatenate 2019 data to dataframe. Load it and check for consistent columns:"
   ]
  },
  {
   "cell_type": "code",
   "execution_count": 5,
   "metadata": {},
   "outputs": [
    {
     "name": "stderr",
     "output_type": "stream",
     "text": [
      "C:\\Users\\pschl\\anaconda3\\lib\\site-packages\\IPython\\core\\interactiveshell.py:3146: DtypeWarning: Columns (167,168,169,170,175,176,179,180,183,184,189,190,191,192,195,196,204,205,206,219,220,221,222,223,224,227,228,232,233,234,239,241,242) have mixed types.Specify dtype option on import or set low_memory=False.\n",
      "  interactivity=interactivity, compiler=compiler, result=result)\n"
     ]
    },
    {
     "data": {
      "text/plain": [
       "(45546, 256)"
      ]
     },
     "execution_count": 5,
     "metadata": {},
     "output_type": "execute_result"
    }
   ],
   "source": [
    "nfl_2019_df = pd.read_csv(r\"C:\\Users\\pschl\\OneDrive\\Documents\\data_science\\NFL\\reg_pbp_2019.csv\")\n",
    "nfl_2019_df.shape"
   ]
  },
  {
   "cell_type": "markdown",
   "metadata": {},
   "source": [
    "There is one additional column in the 2019 dataframe. Find it and drop it from the 2019 data:"
   ]
  },
  {
   "cell_type": "code",
   "execution_count": 6,
   "metadata": {},
   "outputs": [
    {
     "name": "stdout",
     "output_type": "stream",
     "text": [
      "{'touchback'}\n"
     ]
    }
   ],
   "source": [
    "# find which column in the 2019 data not contained in the 2009-2018 data\n",
    "cols_in_df = set(nfl_df.columns.tolist())\n",
    "cols_in_2019 = set(nfl_2019_df.columns.tolist())\n",
    "diff = cols_in_2019.difference(cols_in_df)\n",
    "print(diff)"
   ]
  },
  {
   "cell_type": "code",
   "execution_count": 7,
   "metadata": {},
   "outputs": [
    {
     "data": {
      "text/plain": [
       "(494917, 255)"
      ]
     },
     "execution_count": 7,
     "metadata": {},
     "output_type": "execute_result"
    }
   ],
   "source": [
    "# remove column from 2019 dataset\n",
    "nfl_2019_df.drop(columns=['touchback'], inplace=True)\n",
    "# concatenate the data\n",
    "nfl_df = nfl_df.append(nfl_2019_df).reset_index(drop=True)\n",
    "nfl_df.shape"
   ]
  },
  {
   "cell_type": "markdown",
   "metadata": {},
   "source": [
    "Games can span multiple calendar years depending on the season, so an additional column will be added for convenience to filter by individual seasons."
   ]
  },
  {
   "cell_type": "code",
   "execution_count": 8,
   "metadata": {},
   "outputs": [],
   "source": [
    "# convert game_date to datetime\n",
    "nfl_df['game_date'] = pd.to_datetime(nfl_df['game_date'])"
   ]
  },
  {
   "cell_type": "code",
   "execution_count": 9,
   "metadata": {},
   "outputs": [],
   "source": [
    "# create new column for the current season\n",
    "def get_season(game_date):\n",
    "    if game_date.month <= 3: # end of year or postseason\n",
    "        return game_date.year - 1\n",
    "    else: # fall games\n",
    "        return game_date.year\n",
    "    \n",
    "nfl_df['season'] = nfl_df['game_date'].apply(get_season)"
   ]
  },
  {
   "cell_type": "markdown",
   "metadata": {},
   "source": [
    "Examine the field goal result column:"
   ]
  },
  {
   "cell_type": "code",
   "execution_count": 10,
   "metadata": {},
   "outputs": [
    {
     "data": {
      "text/plain": [
       "made       9028\n",
       "missed     1544\n",
       "blocked     224\n",
       "Name: field_goal_result, dtype: int64"
      ]
     },
     "execution_count": 10,
     "metadata": {},
     "output_type": "execute_result"
    }
   ],
   "source": [
    "nfl_df['field_goal_result'].value_counts()"
   ]
  },
  {
   "cell_type": "markdown",
   "metadata": {},
   "source": [
    "Create a new column that groups together missed and blocked (both are unsuccessful)."
   ]
  },
  {
   "cell_type": "code",
   "execution_count": 11,
   "metadata": {},
   "outputs": [],
   "source": [
    "def map_field_goal_success(df):\n",
    "    # maps the field_goal_result column from 'made', 'missed', 'blocked' into\n",
    "    # success (=1) or failure (=0)\n",
    "    # - Returns the modified DataFrame with new column 'field_goal_successful'\n",
    "    fg_map = {'made': 1, 'missed': 0, 'blocked': 0}\n",
    "    df['field_goal_successful'] = df['field_goal_result'].replace(fg_map)\n",
    "    return df"
   ]
  },
  {
   "cell_type": "code",
   "execution_count": 12,
   "metadata": {},
   "outputs": [],
   "source": [
    "# map field goal descriptive result into success and failure in new 'field_goal_successful' column\n",
    "nfl_df = map_field_goal_success(nfl_df)"
   ]
  },
  {
   "cell_type": "markdown",
   "metadata": {},
   "source": [
    "# Analysis"
   ]
  },
  {
   "cell_type": "markdown",
   "metadata": {},
   "source": [
    "## Field goal statistics in pressure situations\n",
    "\n",
    "Pressure field goals, or high-consequence attempts, are defined as follows:\n",
    "\n",
    "1. **Low time remaining:** <3:00 remaining in the 4th quarter, or anytime in overtime (sudden death)\n",
    "2. **Game-altering outcome:** team attempting the kick will either tie or take the lead\n",
    "\n",
    "Looking at this restrictive subset of cases, rather than timeout vs. no-timeout prior to the kick at any point in the game, attempts to control for the effect of pressure/nerves. For example, an attempt with 10:00 remaining in the 1st quarter is a much less consequential situation than the final play of the game determining a win or loss, even though the underlying mechanics of the attempt is the same. Likewise, occasionally icing happens in the closing minutes of the first half due to the use-it-or-lose-it mechanism for timeouts between halfs; however, the consequences of make/miss and the resulting pressure of the situation is less significant with an additional half left to play.\n",
    "\n",
    "There are also cases where an accepted penalty (delay of game, false start, offsides, encroachment, etc.) occurs directly before a kick, causing a disruption in game flow equivalent to a timeout. For the purposes of this analysis, accepted penalties have the same delay effect as a timeout, and both will be considered as an \"iced\" kick."
   ]
  },
  {
   "cell_type": "code",
   "execution_count": 13,
   "metadata": {},
   "outputs": [
    {
     "data": {
      "text/plain": [
       "(530, 257)"
      ]
     },
     "execution_count": 13,
     "metadata": {},
     "output_type": "execute_result"
    }
   ],
   "source": [
    "pres_kicks = ((nfl_df['field_goal_attempt'] == 1)  # field goal attempted\n",
    "             & (   ((nfl_df['qtr'] == 4) & (nfl_df['quarter_seconds_remaining'] <= 180))  # 4th quarter, <3:00\n",
    "                 | (nfl_df['qtr'] == 5)  # overtime\n",
    "               )\n",
    "             & (nfl_df['score_differential'] >= -3) & (nfl_df['score_differential'] <= 0) # to tie or take the lead\n",
    "             )\n",
    "\n",
    "pres_kicks_df = nfl_df[pres_kicks].copy()\n",
    "pres_kicks_df.shape"
   ]
  },
  {
   "cell_type": "markdown",
   "metadata": {},
   "source": [
    "There are 530 pressure kicks over the 2009-2019 seasons. They need to be further separated by the presence of a disruptive delay before the kick (penalty or opposing team timeout). \n",
    "\n",
    "Note: the plays in the entire dataset are in chronological order within each game, so using the index directly before the kick is the play immediately prior to the kick. This was confirmed while doing this analysis, but it is not shown."
   ]
  },
  {
   "cell_type": "code",
   "execution_count": 14,
   "metadata": {},
   "outputs": [
    {
     "name": "stdout",
     "output_type": "stream",
     "text": [
      "Iced FG Attempts:\n"
     ]
    },
    {
     "data": {
      "text/plain": [
       "False    368\n",
       "True     162\n",
       "Name: iced, dtype: int64"
      ]
     },
     "execution_count": 14,
     "metadata": {},
     "output_type": "execute_result"
    }
   ],
   "source": [
    "# get the plays directly before the pressure kicks\n",
    "prev_plays_df = nfl_df.loc[pres_kicks_df.index-1].copy()\n",
    "# define an iced kick as (1) the opposing team called a time out, or (2) there was a penalty before the kick\n",
    "pres_kicks_df['iced'] = (\n",
    "                            # opposing team timeout\n",
    "                          ((prev_plays_df['timeout'] == 1) & (prev_plays_df['defteam'] == prev_plays_df['timeout_team']))\n",
    "                         |  # or penalty disrupting the flow of the game\n",
    "                          (prev_plays_df['penalty'] == 1)\n",
    "                        ).tolist()\n",
    "print('Iced FG Attempts:')\n",
    "pres_kicks_df['iced'].value_counts()"
   ]
  },
  {
   "cell_type": "markdown",
   "metadata": {},
   "source": [
    "There is slight imbalance, but there are still quite a few instances of icing. Icing occurences are expected to be less because it is not a consensus strategy, and some situations prevent icing from taking place. For example, if the opposing team does not have any timeouts remaining, it is impossible to ice the kicker, stoppage penalties excluded."
   ]
  },
  {
   "cell_type": "code",
   "execution_count": 15,
   "metadata": {},
   "outputs": [
    {
     "name": "stdout",
     "output_type": "stream",
     "text": [
      "opposing team timeouts: 140\n",
      "previous play penalties: 22\n"
     ]
    }
   ],
   "source": [
    "print(f\"opposing team timeouts: {((prev_plays_df['timeout'] == 1) & (prev_plays_df['defteam'] == prev_plays_df['timeout_team'])).sum()}\")\n",
    "print(f\"previous play penalties: {(prev_plays_df['penalty'] == 1).sum()}\")"
   ]
  },
  {
   "cell_type": "markdown",
   "metadata": {},
   "source": [
    "The vast majority of the icing situations are from timeouts instead of penalties."
   ]
  },
  {
   "cell_type": "code",
   "execution_count": 16,
   "metadata": {},
   "outputs": [
    {
     "name": "stdout",
     "output_type": "stream",
     "text": [
      "Iced Ratio by Score Differential:\n",
      "\n",
      "                    iced_ratio  count\n",
      "score_differential                   \n",
      "-3.0                  0.198020    101\n",
      "-2.0                  0.382353     68\n",
      "-1.0                  0.333333     93\n",
      " 0.0                  0.317164    268\n"
     ]
    },
    {
     "data": {
      "image/png": "[encoded data removed]",
      "text/plain": [
       "<Figure size 576x432 with 1 Axes>"
      ]
     },
     "metadata": {},
     "output_type": "display_data"
    }
   ],
   "source": [
    "# counts by game situation: points behind, stratified by icing situations\n",
    "f=plt.figure(figsize=(8,6))\n",
    "ax=f.gca()\n",
    "sns.countplot(data=pres_kicks_df, x='score_differential', hue='iced', hue_order=[True, False], ax=ax)\n",
    "ax.set_title('Field Goal Attempts in Pressure Situations, 2009-2019')\n",
    "ax.set_xlabel('Kicking Team Score Differential Prior to Attempt')\n",
    "\n",
    "print('Iced Ratio by Score Differential:')\n",
    "print()\n",
    "print(pres_kicks_df.groupby('score_differential').agg(iced_ratio=('iced','mean'),\n",
    "                                                      count=('score_differential','size')).sort_index(ascending=True))"
   ]
  },
  {
   "cell_type": "markdown",
   "metadata": {},
   "source": [
    "From the table above, it appears that icing occurs at a rate >50% higher when the attempt would produce a lead change (score differential >= -2), compared to tying (score differential = -3). This makes intuitive sense from the defending team's risk management point of view; the worst case scenario is equalizing the game. If enough time is left on the clock, timeouts are more useful for the upcoming drive on offense to take back the lead. Icing in a -3 score differential scenario only makes tactical sense either for time preservation to prevent the 40-second game clock runoff, or remaining timeouts have no other purpose like last play of the game."
   ]
  },
  {
   "cell_type": "markdown",
   "metadata": {},
   "source": [
    "### Pressure Icing vs. Non-Icing in Aggregate"
   ]
  },
  {
   "cell_type": "code",
   "execution_count": 17,
   "metadata": {},
   "outputs": [
    {
     "name": "stdout",
     "output_type": "stream",
     "text": [
      "Accuracy by Iced:\n",
      "\n",
      "       fg_accuracy  avg_distance\n",
      "iced                            \n",
      "False     0.774457     39.964674\n",
      "True      0.740741     41.222222\n",
      "\n"
     ]
    }
   ],
   "source": [
    "# print accuracy data\n",
    "print('Accuracy by Iced:')\n",
    "print()\n",
    "print(pres_kicks_df.groupby(['iced']).agg(fg_accuracy=('field_goal_successful','mean'),\n",
    "                                         avg_distance=('kick_distance','mean')))\n",
    "print()"
   ]
  },
  {
   "cell_type": "markdown",
   "metadata": {},
   "source": [
    "Iced kicks have a 3.3% lower success rate than non-iced kicks. Is this statistically significant?"
   ]
  },
  {
   "cell_type": "code",
   "execution_count": 18,
   "metadata": {},
   "outputs": [
    {
     "name": "stdout",
     "output_type": "stream",
     "text": [
      "        made  attempted\n",
      "iced                   \n",
      "True   120.0        162\n",
      "False  285.0        368\n",
      "\n",
      "Iced accuracy 1-sided test (icing < non-icing) p-value: 0.200\n"
     ]
    }
   ],
   "source": [
    "# test of iced attempts have a lower accuracy rate than non-iced (1-sided proportion z-test)\n",
    "pres_kicks_data = pres_kicks_df.groupby('iced').agg(made=('field_goal_successful', np.sum),\n",
    "                                                 attempted=('field_goal_successful', 'size')).sort_index(ascending=False)\n",
    "print(pres_kicks_data)\n",
    "print()\n",
    "\n",
    "# test hypothesis that accuracy(icing) < accuracy(non-icing)\n",
    "_, p_val = proportions_ztest(pres_kicks_data.made, pres_kicks_data.attempted, alternative='smaller')\n",
    "print(f'Iced accuracy 1-sided test (icing < non-icing) p-value: {p_val:.3f}')"
   ]
  },
  {
   "cell_type": "markdown",
   "metadata": {},
   "source": [
    "The p-value shows that as a broad strategy, we can't prove a statistically significant advantage for icing at a confidence level of 5%. It is also important to note the average distance for the non-iced kicks is 1 yard closer than iced.\n",
    "\n",
    "Even if the success rate difference was statistically significant, the effect on win probability of using a timeout to ice the kicker vs. the value of saving it for use on the next drive could be the subject of another analysis.\n",
    "\n",
    "If icing as a broad strategy is not conclusively effective, are there specific situations (i.e. score, distance) where icing produces a larger effect?"
   ]
  },
  {
   "cell_type": "markdown",
   "metadata": {},
   "source": [
    "### Accuracy vs. Scoring Differential\n",
    "\n",
    "One variable in pressure situations is the the score (or score differential) at the time of the kick."
   ]
  },
  {
   "cell_type": "code",
   "execution_count": 19,
   "metadata": {},
   "outputs": [],
   "source": [
    "def plot_fg_accuracy_iced(df, strat_col, figsize=(8,6), ylim=[0,1]):\n",
    "    # create figure and plots barplot. Returns matplotlib Axes object\n",
    "    f=plt.figure(figsize=(8,6))\n",
    "    ax=f.gca()\n",
    "    sns.barplot(data=df, \n",
    "                x=strat_col, \n",
    "                y='field_goal_successful', \n",
    "                hue='iced', \n",
    "                hue_order=[True,False], \n",
    "                ax=ax)\n",
    "    ax.set_title('Field Goal Accuracy in Pressure Situations, 2009-2019')\n",
    "    ax.set_ylabel('FG Accuracy')\n",
    "    ax.set_ylim(ylim);\n",
    "    # xlabel is left unset for user to modify\n",
    "    return ax"
   ]
  },
  {
   "cell_type": "code",
   "execution_count": 20,
   "metadata": {},
   "outputs": [
    {
     "name": "stdout",
     "output_type": "stream",
     "text": [
      "Accuracy by Score Differential:\n",
      "\n",
      "                          fg_accuracy\n",
      "score_differential iced              \n",
      "-3.0               False     0.814815\n",
      "                   True      0.750000\n",
      "-2.0               False     0.666667\n",
      "                   True      0.615385\n",
      "-1.0               False     0.822581\n",
      "                   True      0.774194\n",
      " 0.0               False     0.765027\n",
      "                   True      0.764706\n"
     ]
    },
    {
     "data": {
      "image/png": "[encoded data removed]",
      "text/plain": [
       "<Figure size 576x432 with 1 Axes>"
      ]
     },
     "metadata": {},
     "output_type": "display_data"
    }
   ],
   "source": [
    "# plot accuracy rate stratified by score differential and iced/non-iced\n",
    "ax = plot_fg_accuracy_iced(pres_kicks_df, 'score_differential')\n",
    "ax.set_xlabel('Kicking Team Score Differential Prior to Attempt')\n",
    "\n",
    "print('Accuracy by Score Differential:')\n",
    "print()\n",
    "print(pres_kicks_df.groupby(['score_differential', 'iced'])\n",
    "      .agg(fg_accuracy=('field_goal_successful','mean'))\n",
    "      .sort_index(ascending=True))"
   ]
  },
  {
   "cell_type": "markdown",
   "metadata": {},
   "source": [
    "In aggregate and split out by score differential, it appears that icing the kicker does decrease the accuracy rate about 5% when the kicking team is behind, and no effect when the kicking team is ahead. However, the difference not much larger than icing in aggregate."
   ]
  },
  {
   "cell_type": "markdown",
   "metadata": {},
   "source": [
    "### Accuracy vs. Distance\n",
    "\n",
    "To evaluate the effect of distance on iced attempts in pressure situations, field goal distances should be grouped into ranges due to the relatively low number of pressure attempts in our dataset when split by individual distances. The success rate for all field goals from 2009-2019 in all game situations is shown below, along with a 3rd order polynomial fit."
   ]
  },
  {
   "cell_type": "code",
   "execution_count": 21,
   "metadata": {},
   "outputs": [
    {
     "data": {
      "image/png": "[encoded data removed]",
      "text/plain": [
       "<Figure size 504x288 with 1 Axes>"
      ]
     },
     "metadata": {},
     "output_type": "display_data"
    }
   ],
   "source": [
    "# scatterplot of FG accuracy by distance\n",
    "fg_gb = (nfl_df.loc[nfl_df['field_goal_attempt']==1, ['field_goal_successful', 'kick_distance']]\n",
    "         .groupby('kick_distance').mean()\n",
    "         .reset_index())\n",
    "f = plt.figure(figsize=(7,4))\n",
    "ax = f.gca()\n",
    "sns.regplot(data=fg_gb, x='kick_distance', y='field_goal_successful',\n",
    "            order=3,\n",
    "            line_kws={'color': 'black', 'ls':'--'},\n",
    "            ax=ax)\n",
    "ax.set_xlabel('FG Distance (yards)')\n",
    "ax.set_ylabel('FG Success Rate')\n",
    "ax.set_ylim([-.05, 1.05])\n",
    "ax.set_title('FG Success Rate vs. Distance, 2009-2019');"
   ]
  },
  {
   "cell_type": "markdown",
   "metadata": {},
   "source": [
    "A good rule of thumb for NFL kickers is <30 yards is almost an automatic success, 30-40 yards is easy, 40-50 yards is more difficult especially in poor conditions, and 50+ yards is difficult. This generalization is supported by the plot above. First we need to confirm that the pressure kick data has a enough kicks support this grouping scheme:"
   ]
  },
  {
   "cell_type": "code",
   "execution_count": 22,
   "metadata": {},
   "outputs": [
    {
     "data": {
      "text/plain": [
       "count    530.000000\n",
       "mean      40.349057\n",
       "std       10.532731\n",
       "min       18.000000\n",
       "25%       32.000000\n",
       "50%       41.000000\n",
       "75%       48.000000\n",
       "max       68.000000\n",
       "Name: kick_distance, dtype: float64"
      ]
     },
     "execution_count": 22,
     "metadata": {},
     "output_type": "execute_result"
    },
    {
     "data": {
      "image/png": "[encoded data removed]",
      "text/plain": [
       "<Figure size 864x288 with 2 Axes>"
      ]
     },
     "metadata": {},
     "output_type": "display_data"
    }
   ],
   "source": [
    "# histogram by field goal distance for each pressure attempt\n",
    "f, (ax1, ax2) = plt.subplots(1,2, figsize=(12,4))\n",
    "sns.histplot(data=pres_kicks_df, x='kick_distance', bins=range(70),\n",
    "             kde=True, ax=ax1, color='black')\n",
    "ax1.set_xlabel('FG Distance (yards)')\n",
    "ax1.set_xlim([15, 70])\n",
    "ax1.set_title('Pressure FG Distance, 2009-2019')\n",
    "# pressure kicks stratified by icing\n",
    "sns.kdeplot(data=pres_kicks_df, x='kick_distance', hue='iced',\n",
    "            hue_order=[True, False], common_norm=False, ax=ax2)\n",
    "ax2.set_xlabel('FG Distance (yards)')\n",
    "ax2.set_title('Pressure FG Distance Distribution by Iced')\n",
    "\n",
    "pres_kicks_df['kick_distance'].describe()"
   ]
  },
  {
   "cell_type": "markdown",
   "metadata": {},
   "source": [
    "The low counts at any given distance confirms the need for grouping. The smallest possible value is 18 yards, so the minimum is valid (10 yards to goal posts at the back of the endzone + 1 yard line + 7 yards offset from line of scrimmage to the kick location). The current NFL record for a successful field goal is 64 yards, although teams have on rare occasions attempted further distances when there is no other viable option and there is no consequence for a miss, for example on the last play of the first half. So a maximum of 68 yards is also reasonable.\n",
    "\n",
    "Looking at the iced vs. non-iced distributions in the right plot, both are very similar. The plot implies that the distance distribution is a minor factor in the previous aggregate iced vs. non-iced analysis done earlier.\n",
    "\n",
    "Bin the data into groups:\n",
    "\n",
    "* <30 yards\n",
    "* 30-39 yards\n",
    "* 40-49 yards\n",
    "* 50+ yards"
   ]
  },
  {
   "cell_type": "code",
   "execution_count": 23,
   "metadata": {},
   "outputs": [],
   "source": [
    "def bin_fg_distance(df):\n",
    "    # returns a Series with binned field goal distances\n",
    "    bins = [0, 30, 40, 50, float('inf')]  # pd.cut() is left-bound inclusive with right=False flag\n",
    "    labels = ['<30', '30-39', '40-49', '50+']\n",
    "    return pd.cut(df['kick_distance'], \n",
    "                  bins=bins, \n",
    "                  labels=labels,\n",
    "                  right=False)"
   ]
  },
  {
   "cell_type": "code",
   "execution_count": 24,
   "metadata": {},
   "outputs": [
    {
     "data": {
      "text/plain": [
       "<30       90\n",
       "30-39    146\n",
       "40-49    183\n",
       "50+      111\n",
       "Name: kick_distance_bin, dtype: int64"
      ]
     },
     "execution_count": 24,
     "metadata": {},
     "output_type": "execute_result"
    }
   ],
   "source": [
    "# bin the field goal attempt distances\n",
    "pres_kicks_df['kick_distance_bin'] = bin_fg_distance(pres_kicks_df)\n",
    "\n",
    "# show bin counts\n",
    "pres_kicks_df['kick_distance_bin'].value_counts().sort_index()"
   ]
  },
  {
   "cell_type": "markdown",
   "metadata": {},
   "source": [
    "The grouped data has relatively balanced counts, which is sufficient for this analysis."
   ]
  },
  {
   "cell_type": "code",
   "execution_count": 25,
   "metadata": {},
   "outputs": [
    {
     "name": "stdout",
     "output_type": "stream",
     "text": [
      "Iced Ratio by Score Differential:\n",
      "\n",
      "                   iced_ratio  count\n",
      "kick_distance_bin                   \n",
      "<30                  0.233333     90\n",
      "30-39                0.335616    146\n",
      "40-49                0.284153    183\n",
      "50+                  0.360360    111\n",
      "\n",
      "Accuracy by FG Distance:\n",
      "\n",
      "                         fg_accuracy\n",
      "kick_distance_bin iced              \n",
      "<30               False     0.942029\n",
      "                  True      0.952381\n",
      "30-39             False     0.948454\n",
      "                  True      0.918367\n",
      "40-49             False     0.732824\n",
      "                  True      0.692308\n",
      "50+               False     0.450704\n",
      "                  True      0.475000\n"
     ]
    },
    {
     "data": {
      "image/png": "[encoded data removed]",
      "text/plain": [
       "<Figure size 576x432 with 1 Axes>"
      ]
     },
     "metadata": {},
     "output_type": "display_data"
    }
   ],
   "source": [
    "# plot accuracy stratified by kicking distance and iced/not iced\n",
    "ax = plot_fg_accuracy_iced(pres_kicks_df, 'kick_distance_bin')\n",
    "ax.set_xlabel('FG Attempt Distance (yards)')\n",
    "\n",
    "# print iced ratio values for each distance bin\n",
    "print('Iced Ratio by Score Differential:')\n",
    "print()\n",
    "print(pres_kicks_df.groupby('kick_distance_bin')\n",
    "      .agg(iced_ratio=('iced','mean'), count=('kick_distance_bin','size'))\n",
    "      .sort_index(ascending=True))\n",
    "print()\n",
    "\n",
    "# print accuracy values\n",
    "print('Accuracy by FG Distance:')\n",
    "print()\n",
    "print(pres_kicks_df.groupby(['kick_distance_bin', 'iced'])\n",
    "      .agg(fg_accuracy=('field_goal_successful','mean'))\n",
    "      .sort_index(ascending=True))"
   ]
  },
  {
   "cell_type": "markdown",
   "metadata": {},
   "source": [
    "As expected, there is an inverse relationship between field goal accuracy and distance. However, there does not appear to be a significant difference in success rate when comparing iced attempts vs. non-iced attempts within distance groups, similar to score differential."
   ]
  },
  {
   "cell_type": "markdown",
   "metadata": {},
   "source": [
    "## Does Pressure Even Matter?\n",
    "\n",
    "The analysis above shows that with this data, there is not conclusive evidence that icing the kicker provides a significant advantage in any scenario. The strategy is based on the assumption that increasing the pressure on the kicker will make them more likely to miss; do kickers actually have a lower accuracy rate in pressure situations? If not, the fundamental assumption behind the strategy is flawed.\n",
    "\n",
    "The effect of pressure can be quantified by comparing the pressure field goal data extracted earlier to the rest of the field goals in the dataset (which are therefore non-pressure situations)."
   ]
  },
  {
   "cell_type": "code",
   "execution_count": 26,
   "metadata": {},
   "outputs": [],
   "source": [
    "# get the field goals that are not in pressure situations\n",
    "nopres_kicks_df = (nfl_df.loc[nfl_df['field_goal_attempt']==1,:]\n",
    "                   .drop(index=pres_kicks_df.index)\n",
    "                   .copy())\n",
    "# add the binned kick distance\n",
    "nopres_kicks_df['kick_distance_bin'] = bin_fg_distance(nopres_kicks_df)"
   ]
  },
  {
   "cell_type": "markdown",
   "metadata": {},
   "source": [
    "Overall accuracy in pressure vs. non-pressure situations:"
   ]
  },
  {
   "cell_type": "code",
   "execution_count": 27,
   "metadata": {},
   "outputs": [
    {
     "data": {
      "text/html": [
       "<div>\n",
       "<style scoped>\n",
       "    .dataframe tbody tr th:only-of-type {\n",
       "        vertical-align: middle;\n",
       "    }\n",
       "\n",
       "    .dataframe tbody tr th {\n",
       "        vertical-align: top;\n",
       "    }\n",
       "\n",
       "    .dataframe thead th {\n",
       "        text-align: right;\n",
       "    }\n",
       "</style>\n",
       "<table border=\"1\" class=\"dataframe\">\n",
       "  <thead>\n",
       "    <tr style=\"text-align: right;\">\n",
       "      <th></th>\n",
       "      <th>Count</th>\n",
       "      <th>Accuracy</th>\n",
       "    </tr>\n",
       "  </thead>\n",
       "  <tbody>\n",
       "    <tr>\n",
       "      <th>Pressure</th>\n",
       "      <td>530</td>\n",
       "      <td>0.764151</td>\n",
       "    </tr>\n",
       "    <tr>\n",
       "      <th>No Pressure</th>\n",
       "      <td>10266</td>\n",
       "      <td>0.839957</td>\n",
       "    </tr>\n",
       "  </tbody>\n",
       "</table>\n",
       "</div>"
      ],
      "text/plain": [
       "             Count  Accuracy\n",
       "Pressure       530  0.764151\n",
       "No Pressure  10266  0.839957"
      ]
     },
     "execution_count": 27,
     "metadata": {},
     "output_type": "execute_result"
    }
   ],
   "source": [
    "pres_summary = pd.DataFrame({'Count': [pres_kicks_df.shape[0], nopres_kicks_df.shape[0]],\n",
    "              'Accuracy': [pres_kicks_df['field_goal_successful'].mean(), nopres_kicks_df['field_goal_successful'].mean()]},\n",
    "             index=['Pressure', 'No Pressure'])\n",
    "\n",
    "pres_summary"
   ]
  },
  {
   "cell_type": "markdown",
   "metadata": {},
   "source": [
    "There is a 7.5% accuracy difference in pressure vs. no pressure scenarios. Test if this difference is statistically significant at the 5% level:"
   ]
  },
  {
   "cell_type": "code",
   "execution_count": 28,
   "metadata": {},
   "outputs": [
    {
     "name": "stdout",
     "output_type": "stream",
     "text": [
      "Pressure accuracy < no pressure test of proportion equality, p-value: 2.13e-06\n"
     ]
    }
   ],
   "source": [
    "# 1-sided z-test (pressure accuracy < no pressure accuracy)\n",
    "made_count = np.round(pres_summary['Accuracy'] * pres_summary['Count'])\n",
    "_, p_value = proportions_ztest(made_count, pres_summary['Count'], alternative='smaller')\n",
    "print(f'Pressure accuracy < no pressure test of proportion equality, p-value: {p_value:.2e}')"
   ]
  },
  {
   "cell_type": "markdown",
   "metadata": {},
   "source": [
    "The p-value indicates the difference between the pressure and non-pressure kick success rate is statistically significant. Therefore pressure does make a kicker less likely to make a field goal.\n",
    "\n",
    "Does this trend hold of pressure affecting accuracy rates at different distances?"
   ]
  },
  {
   "cell_type": "code",
   "execution_count": 29,
   "metadata": {},
   "outputs": [
    {
     "name": "stdout",
     "output_type": "stream",
     "text": [
      "Accuracy by FG Distance:\n",
      "\n",
      "                                 fg_accuracy\n",
      "kick_distance_bin pressure_kick             \n",
      "<30               False             0.973022\n",
      "                  True              0.944444\n",
      "30-39             False             0.893048\n",
      "                  True              0.938356\n",
      "40-49             False             0.768158\n",
      "                  True              0.721311\n",
      "50+               False             0.630299\n",
      "                  True              0.459459\n"
     ]
    },
    {
     "data": {
      "image/png": "[encoded data removed]",
      "text/plain": [
       "<Figure size 576x432 with 1 Axes>"
      ]
     },
     "metadata": {},
     "output_type": "display_data"
    }
   ],
   "source": [
    "# add a pressure indicator to each dataframe\n",
    "pres_kicks_df['pressure_kick'] = True\n",
    "nopres_kicks_df['pressure_kick'] = False\n",
    "# combine these two dataframes together\n",
    "all_kicks_df = pd.concat([pres_kicks_df, nopres_kicks_df]).sort_index()\n",
    "\n",
    "# print accuracy values\n",
    "print('Accuracy by FG Distance:')\n",
    "print()\n",
    "print(all_kicks_df.groupby(['kick_distance_bin', 'pressure_kick'])\n",
    "      .agg(fg_accuracy=('field_goal_successful','mean'))\n",
    "      .sort_index(ascending=True))\n",
    "\n",
    "# plot accuracy rates by distance, stratified by pressure\n",
    "f=plt.figure(figsize=(8,6))\n",
    "ax=f.gca()\n",
    "sns.barplot(data=all_kicks_df, \n",
    "            x='kick_distance_bin', \n",
    "            y='field_goal_successful', \n",
    "            hue='pressure_kick', \n",
    "            hue_order=[True,False], \n",
    "            ax=ax)\n",
    "ax.set_title('Field Goal Accuracy, 2009-2019')\n",
    "ax.set_ylabel('FG Accuracy')\n",
    "ax.set_ylim([0,1]);\n",
    "ax.set_xlabel('FG Attempt Distance (yards)')\n",
    "ax.legend(title='Pressure Kick');"
   ]
  },
  {
   "cell_type": "markdown",
   "metadata": {},
   "source": [
    "The trend on the non-pressure kicks is steadily decreasing accuracy with increasing distance, as expected. However, it is interesting to see the accuracy rate has a much more substantial drop with increasing distance, and the accuracy rate for 50+ yards is significantly lower than non-pressure 50+ yard attempts (17%)."
   ]
  },
  {
   "cell_type": "markdown",
   "metadata": {},
   "source": [
    "# Conclusion\n",
    "\n",
    "Based on this data, there is not evidence to support the belief that icing the kicker improves the chance of winning in any significant way, even in specific game scenarios and kick distances. However, it does appear that pressure does hurt accuracy for kicks >50 yards. This is useful knowledge for the offensive team, especially to determine 4th down decisions in these situations (4th quarter <3:00 or overtime, tied or down by <= 3 points)."
   ]
  },
  {
   "cell_type": "markdown",
   "metadata": {},
   "source": [
    "## Future work\n",
    "\n",
    "The play-by-play data used in this study does not provide enough data to differentiate between cases where the kicker has an invalidated kick result due to the timing of a timeout or penalty, effectively giving the kickers a practice attempt on the field. This is also a specific icing strategy, but its effectiveness has been debated relative to traditional icing. This differences in scenarios (practice kick, different ball) has not been accounted for or explored in this analysis and may affect the aggregate results by not blocking for each scenario."
   ]
  }
 ],
 "metadata": {
  "kernelspec": {
   "display_name": "Python 3",
   "language": "python",
   "name": "python3"
  },
  "language_info": {
   "codemirror_mode": {
    "name": "ipython",
    "version": 3
   },
   "file_extension": ".py",
   "mimetype": "text/x-python",
   "name": "python",
   "nbconvert_exporter": "python",
   "pygments_lexer": "ipython3",
   "version": "3.7.9"
  }
 },
 "nbformat": 4,
 "nbformat_minor": 4
}
